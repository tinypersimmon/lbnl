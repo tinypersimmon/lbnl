{
 "cells": [
  {
   "cell_type": "markdown",
   "metadata": {},
   "source": [
    "# Supplementary plots."
   ]
  },
  {
   "cell_type": "markdown",
   "metadata": {},
   "source": [
    "Tuning for $\\alpha$, which represents the number of electrons being converted per mole of reaction.\n"
   ]
  },
  {
   "cell_type": "code",
   "execution_count": null,
   "metadata": {},
   "outputs": [],
   "source": [
    "# also ignore\n",
    "\n",
    "E_param_tuning = 0.2\n",
    "test_alpha_arr = [0.2, 0.5, 1, 1.5, 2]\n",
    "\n",
    "plt.figure(figsize=(7,7))\n",
    "for test_alpha in test_alpha_arr:\n",
    "    plt.plot(x/L, c_cl(applied_potential=0.2, alpha=test_alpha)[1]/c_feed, label=test_alpha)\n",
    "\n",
    "plt.xlabel('x (m)')\n",
    "plt.ylabel('Concentration (mol/L)')\n",
    "plt.title('Concentration across CL with varying alpha')\n",
    "plt.legend(title='alpha', loc='best', bbox_to_anchor=(0.5, 0., 0.5, 0.5))\n",
    "plt.show()"
   ]
  }
 ],
 "metadata": {
  "language_info": {
   "name": "python"
  },
  "orig_nbformat": 4
 },
 "nbformat": 4,
 "nbformat_minor": 2
}
