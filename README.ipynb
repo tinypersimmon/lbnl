{
 "cells": [
  {
   "cell_type": "code",
   "execution_count": null,
   "metadata": {},
   "outputs": [],
   "source": [
    "\begin{document}",
    "# Modeling transport through porous electrode\n",
    "Rosa Zhang, mentored by Anamika Chowdhury & Adam Weber\n",
    "Lawrence Berkeley National Lab\n",
    "\n",
    "## Introduction\n",
    "Degradation in PEMFC catalyst layers is a major barrier to commercialization of fuel cell (FC) vehicles, \n",
    "especially due to voltage cycling from vehicle operations. Degradation results in multiple morphological \n",
    "effects in the catalyst layer (CL), including:\n",
    "a.\tReduced Pt surface area (ECSA) due to Pt particle dissolution and coalescence\n",
    "b.\tAlloy metal dissolution in ionomer causing changes in ionomer properties\n",
    "c.\tCarbon support corrosion resulting in thinning and reduced porosity\n",
    "d.\tIonomer degradation and thinning\n",
    "e.\tMembrane pinhole and crack formation\n",
    "In this project, we combine the transport at the two different length-scales i.e., the electrode thickness and agglomerate, and study the impact of transport parameters such as agglomerate size, ionomer gas-diffusivity etc. The diffusion and simultaneous reaction in the agglomerate are modeled separately, which feeds into the model for gas-transport through the electrode thickness. The hydrogen anode was chosen as the basis for this model so that oxygen effects from water, oxide, and hydroxide production.\n",
    "\n",
    "## Objective\n",
    "This project seeks to develop a computation model to simulate CL operation. Analysis using this model will be performed to understand the magnitude and location of on the aforementioned morphological changes, and their corresponding impact on the operating CL.\n",
    "\n",
    "## Premise\n",
    "Gas transport is facilitated by the ionomer film surrounding the carbon agglomerates in the catalyst layer. Hence, this involves transport through multiple phases and length-scales: (i) gas-phase transport through electrode pores at the length scale of electrode thickness (microns), and (ii) diffusion into the agglomerate through an ionomer film at the length scale of agglomerate radius (nanometers).\n",
    "\n",
    "## Simplistic Model\n",
    "We began with a derived form of a mole balance relating diffusive transport and reaction within the CL for a steady-state hydrogen anode.\n",
    "$$ D_{CL}^{eff}  \\frac{\\partial{^2 c_{CL}(x)}}{\\partial{x^2}}\\ = \\frac{a_{v} i(x)}{n F}\\ $$\n",
    "Where $ D_{CL}^{eff} $ is the effective diffusion coefficient or hydrogen in the catalyst layer, $ c_{CL} $ is the position-dependent concentration of hydrogen in the catalyst layer, $n$ is the moles of electrons generated per mole of hydrogen reacted, $F$ is the Faraday constant, $a_{v}$ is the effective active surface area of Pt available per volume of CL, and $i(x)$ is the position-dependent electrode current density.\n",
    "Using the general Butler-Volmer equation without considering diffusion near the agglomerate, one can substitute:\n",
    "$$ i(x) = i_{0} \\frac{c_{o}(x=0,t)}{c_{o}^*} \\exp⁡( \\frac{ \\alpha z F}{RT}\\ \\eta - \\frac{c_{r}(x=0,t)}{c_{r}^*}\\ exp⁡\\frac{-\\alpha z F}{RT}\\ \\eta $$\n",
    "Where $j$ is electrode current density, $j_{0}$ is exchange current density, $T$ is temperature, $c_{o}$ and $c_{r}$ are respectively the concentration of hydrogen gas and protons (species to be oxidized and reduced), $z$ is number of electrons involved in the electrode reaction, $R$ is the universal gas constant, and $\\alpha$ is the dimensionless anodic charge transfer coefficient. The local overpotential $\\eta$ is expressed as follows:\n",
    "$$ \\eta = (\\phi_{1} - \\phi_{2} ) - ( U_{1}-U_{2} ) $$\n",
    "$$ \\eta =( E - E_{eq} )_{agglomerate} - ( E - E_{eq} )_{film} $$ \\\n",
    "Substituting into the governing equation and solving for $ c_{CL}(x) $ gives the following, with stand-in variables of $\\beta$ and $\\gamma$.\n",
    "$$ c_{CL}(x) = c_{r}(0) e^{-2 \\beta} + \\frac{ c_{in} - c_{r}(0) e^{-2 \\beta}} { e^{-2L \\sqrt{ \\gamma} }}\\ [ e^{-2L \\sqrt{\\gamma}} e^{x \\sqrt{\\gamma}} + e^{-x \\sqrt{\\gamma}} ] $$\n",
    "$$ \\beta = \\frac{\\alpha z F}{RT}\\ \\eta $$\n",
    "$$ \\gamma = \\frac{a_{v} i_{0}}{n F D_{CL}^{eff}}\\ e^\\beta $$\n",
    "\n",
    "\n",
    "Full report:\n",
    "https://1drv.ms/w/s!AnOlGasVBmjsapGcvZkJTSkahIc",
    "\end{document}",
   ]
  },
  {
   "cell_type": "code",
   "execution_count": null,
   "metadata": {},
   "outputs": [],
   "source": []
  }
 ],
 "metadata": {
  "kernelspec": {
   "display_name": "Julia 1.3.1",
   "language": "julia",
   "name": "julia-1.3"
  }
 },
 "nbformat": 4,
 "nbformat_minor": 4
}
